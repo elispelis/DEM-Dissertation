{
 "cells": [
  {
   "cell_type": "code",
   "execution_count": 1,
   "metadata": {},
   "outputs": [],
   "source": [
    "import numpy as np\n",
    "import pandas as pd\n",
    "from edempy import Deck\n",
    "from extrapolation import extrapolation\n",
    "from LaceyClass import LaceyMixingAnalyzer\n",
    "import matplotlib.pyplot as plt\n",
    "from rnn.data_loader_rnn import RNNLoader\n",
    "from rnn.rnn_extrap import plot_particles, import_dict\n",
    "import matplotlib.pyplot as plt\n",
    "\n",
    "\n",
    "sim_names = [\"Rot_drum_mono\", \"Rot_drum_binary_mixed\", \"Rot_drum_400k\"]\n",
    "sim_name = sim_names[-1]\n",
    "sim_path =rf\"V:\\GrNN_EDEM-Sims\\{sim_name}.dem\""
   ]
  },
  {
   "cell_type": "code",
   "execution_count": 2,
   "metadata": {},
   "outputs": [],
   "source": [
    "lacey_settings = f\"{sim_path[:-4]}_data\\Export_Data\\Lacey_settings.txt\"\n",
    "\n",
    "with open(lacey_settings, 'r') as file:\n",
    "    preferences = file.readlines()\n",
    "    minCoords = np.array([float(i) for i in str(preferences[1]).split(',')])\n",
    "    maxCoords = np.array([float(i) for i in str(preferences[3]).split(',')])\n",
    "    bins = np.array([int(i) for i in str(preferences[5]).split(',')])\n",
    "    cut_off = int(preferences[7])\n",
    "    plot = str(preferences[9])\n",
    "    file.close()\n",
    "    settings = True\n",
    "\n",
    "lacey = LaceyMixingAnalyzer(minCoords, maxCoords, bins)\n",
    "rnn = RNNLoader(1,20,sim_path)"
   ]
  },
  {
   "cell_type": "code",
   "execution_count": null,
   "metadata": {},
   "outputs": [],
   "source": [
    "import math\n",
    "\n",
    "def dynamic_aor():\n",
    "\n",
    "    delta=np.zeros(len(grid_y))\n",
    "    index_nonzero=np.zeros(len(grid_x))\n",
    "    SurfaceZ=np.zeros(shape=(len(grid_y),len(grid_x)))\n",
    "    SurfaceY=np.zeros(shape=(len(grid_y),len(grid_x)))\n",
    "    SurfaceX=np.zeros(shape=(len(grid_y),len(grid_x)))\n",
    "    Coord=np.zeros((1,3))\n",
    "\n",
    "    for i in range(len(grid_y)):\n",
    "    #Find surface particles\n",
    "        for j in range (len(grid_x)):\n",
    "            index_coord=np.where((Coord[:,0]>(grid_x[j]-bin_size[0]/2)) & (Coord[:,0]<(grid_x[j]+bin_size[0]/2)) & (Coord[:,1]>(grid_y[i]-bin_size[1]/2)) & (Coord[:,1]<(grid_y[i]+bin_size[1]/2)))\n",
    "            surf=Coord[index_coord]\n",
    "            #Index zero values and get surface particles\n",
    "            if surf.shape[0]>0:\n",
    "                Max=np.argmax(surf[:,2])\n",
    "                SurfaceX[i][j]=surf[Max,0]\n",
    "                SurfaceY[i][j]=surf[Max,1]\n",
    "                SurfaceZ[i][j]=surf[Max,2]\n",
    "                index_nonzero[j]=j\n",
    "            else:\n",
    "                index_nonzero[j]=-1\n",
    "    #Linear fit to surface particles\n",
    "    fit=np.polyfit(grid_x[index_nonzero!=-1],SurfaceZ[i][index_nonzero!=-1],1)\n",
    "    #Calculating angle of repose and statistics\n",
    "    delta[i]=math.atan(abs(fit[0]))*180/math.pi    "
   ]
  },
  {
   "cell_type": "code",
   "execution_count": 8,
   "metadata": {},
   "outputs": [],
   "source": [
    "bins[-1] = 1\n",
    "delta_t = 0.05\n",
    "extrapolated_lacey = []\n",
    "extrapolated_time = []\n",
    "id_dict_path = rf\"V:\\GrNN_EDEM-Sims\\{sim_name}_data\\Export_Data\"\n",
    "id_dict = import_dict(id_dict_path, \"id_dict\")\n",
    "plots_path = rf\"{sim_path[:-4]}_data\\Export_Data\\extrap_algo_plots\"\n",
    "\n",
    "# b_coords_lacey, div_size_lacey = lacey.grid()\n",
    "# for timestep in np.arange(rnn.start_t, rnn.end_t+delta_t, delta_t):\n",
    "#     timestep_i = rnn.find_nearest(timestep, rnn.deck.timestepValues)\n",
    "#     particles = rnn.get_particle_data(timestep_i)\n",
    "#     particles = np.delete(particles, [3,4,5], 1)\n",
    "\n",
    "#     plot_filename = rf\"{plots_path}\\{timestep:.2f}.png\"\n",
    "#     pred_t_mass = plot_particles(particles, id_dict, True, timestep, plot_path=plot_filename)\n",
    "#     mass_1, mass_2, conc = lacey.bining(b_coords_lacey, div_size_lacey, pred_t_mass, cut_off)\n",
    "#     Lacey_index = lacey.Lacey(mass_1, mass_2, conc, cut_off, len(pred_t_mass))\n",
    "#     print(f\"{timestep}: {Lacey_index}\")\n",
    "#     extrapolated_lacey.append(Lacey_index)\n",
    "#     extrapolated_time.append(timestep)\n",
    "\n",
    "# np.savetxt(rf\"{plots_path}\\_lacey.csv\", np.column_stack((extrapolated_time, extrapolated_lacey)), delimiter=\",\")"
   ]
  },
  {
   "cell_type": "code",
   "execution_count": null,
   "metadata": {},
   "outputs": [],
   "source": []
  }
 ],
 "metadata": {
  "kernelspec": {
   "display_name": "EDEMpy",
   "language": "python",
   "name": "python3"
  },
  "language_info": {
   "codemirror_mode": {
    "name": "ipython",
    "version": 3
   },
   "file_extension": ".py",
   "mimetype": "text/x-python",
   "name": "python",
   "nbconvert_exporter": "python",
   "pygments_lexer": "ipython3",
   "version": "3.8.10"
  }
 },
 "nbformat": 4,
 "nbformat_minor": 2
}
